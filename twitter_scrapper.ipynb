{
  "nbformat": 4,
  "nbformat_minor": 0,
  "metadata": {
    "colab": {
      "name": "twitter-scrapper.ipynb",
      "provenance": [],
      "collapsed_sections": [],
      "authorship_tag": "ABX9TyPzfIrHCnGFxp/zJo3qBJ3p",
      "include_colab_link": true
    },
    "kernelspec": {
      "name": "python3",
      "display_name": "Python 3"
    },
    "language_info": {
      "name": "python"
    }
  },
  "cells": [
    {
      "cell_type": "markdown",
      "metadata": {
        "id": "view-in-github",
        "colab_type": "text"
      },
      "source": [
        "<a href=\"https://colab.research.google.com/github/RaghavMaskara21/twitter/blob/main/twitter_scrapper.ipynb\" target=\"_parent\"><img src=\"https://colab.research.google.com/assets/colab-badge.svg\" alt=\"Open In Colab\"/></a>"
      ]
    },
    {
      "cell_type": "code",
      "execution_count": 3,
      "metadata": {
        "id": "zUR07G88ROAY"
      },
      "outputs": [],
      "source": [
        "import tweepy\n",
        "import pandas as pd\n",
        "import time\n",
        "\n",
        "consumer_key = \"\"\n",
        "consumer_secret = \"\"\n",
        "access_token = \"\"\n",
        "access_token_secret = \"\"\n",
        "auth = tweepy.OAuthHandler(consumer_key, consumer_secret)\n",
        "auth.set_access_token(access_token, access_token_secret)\n",
        "api = tweepy.API(auth,wait_on_rate_limit=True)\n",
        "\n",
        "text_query = 'Crypto'\n",
        "count = 10\n",
        "try:\n",
        "\n",
        " tweets = tweepy.Cursor(api.search,q=text_query).items(count)\n",
        " \n",
        " \n",
        " tweets_list = [[tweet.created_at, tweet.id, tweet.text, tweet.retweet_count, tweet.favorite_count] for tweet in tweets]\n",
        " \n",
        "\n",
        " tweets_df = pd.DataFrame(tweets_list)\n",
        " \n",
        "except BaseException as e:\n",
        "    print('failed on_status,',str(e))\n",
        "    time.sleep(3)\n",
        "\n",
        "tweets_df.rename(columns={0: 'created_at', 1: 'tweet_id', 2:'tweet', 3: 'retweet_count', 4:'favorite_count'}, inplace=True)\n",
        "\n",
        "tweets_df.head()\n",
        "\n",
        "len(tweets_df)\n",
        "\n",
        "tweets_df.to_csv('tweets.csv')\n"
      ]
    }
  ]
}